{
 "cells": [
  {
   "cell_type": "markdown",
   "metadata": {},
   "source": [
    "\n",
    "<a href='https://www.darshan.ac.in/'> <img src='https://www.darshan.ac.in/Content/media/DU_Logo.svg' width=\"250\" height=\"300\"/></a>\n",
    "<pre>\n",
    "<center><b><h1>Python Programming - 2301CS404</b></center>\n",
    "<center><b><h1>Lab - 4</b></center>  \n",
    "<center><b><h1>Nimavat  Mansi Dilipbhai|23010101177|16-12-2024</b></center>  \n",
    "<pre>"
   ]
  },
  {
   "cell_type": "markdown",
   "metadata": {},
   "source": [
    "# String"
   ]
  },
  {
   "cell_type": "markdown",
   "metadata": {},
   "source": [
    "### 01) WAP to check whether the given string is palindrome or not."
   ]
  },
  {
   "cell_type": "code",
   "execution_count": 4,
   "metadata": {},
   "outputs": [
    {
     "name": "stdout",
     "output_type": "stream",
     "text": [
      "Not Palindrome\n"
     ]
    }
   ],
   "source": [
    "str=\"Mansi\"\n",
    "str2=str[::-1]\n",
    "if(str==str2):\n",
    "    print(\"Palindrome\")\n",
    "else:\n",
    "    print(\"Not Palindrome\")"
   ]
  },
  {
   "cell_type": "markdown",
   "metadata": {},
   "source": [
    "### 02) WAP to reverse the words in the given string."
   ]
  },
  {
   "cell_type": "code",
   "execution_count": 41,
   "metadata": {},
   "outputs": [
    {
     "name": "stdin",
     "output_type": "stream",
     "text": [
      "Enter your String hi I am Mansi\n"
     ]
    },
    {
     "name": "stdout",
     "output_type": "stream",
     "text": [
      "Mansi am I hi \n"
     ]
    }
   ],
   "source": [
    "str=input(\"Enter your String\")\n",
    "str2=str.split()[::-1];\n",
    "ans=\"\"\n",
    "for i in str2:\n",
    "    ans+=i+\" \"\n",
    "print(ans)"
   ]
  },
  {
   "cell_type": "markdown",
   "metadata": {},
   "source": [
    "### 03) WAP to remove ith character from given string."
   ]
  },
  {
   "cell_type": "code",
   "execution_count": 97,
   "metadata": {},
   "outputs": [
    {
     "name": "stdin",
     "output_type": "stream",
     "text": [
      "Enter your String: hi I am Mansi\n",
      "Enter you index you want to remove: 3\n"
     ]
    },
    {
     "name": "stdout",
     "output_type": "stream",
     "text": [
      "hi  am Mansi\n"
     ]
    }
   ],
   "source": [
    "str1=input(\"Enter your String:\")\n",
    "i=int(input(\"Enter you index you want to remove:\"))\n",
    "str=str1[0:i]+str1[i+1:]\n",
    "print(str)"
   ]
  },
  {
   "cell_type": "markdown",
   "metadata": {},
   "source": [
    "### 04) WAP to find length of string without using len function."
   ]
  },
  {
   "cell_type": "code",
   "execution_count": 12,
   "metadata": {},
   "outputs": [
    {
     "name": "stdin",
     "output_type": "stream",
     "text": [
      "Enter your String Hi Iam Mansi\n"
     ]
    },
    {
     "name": "stdout",
     "output_type": "stream",
     "text": [
      "Length= 12\n"
     ]
    }
   ],
   "source": [
    "str=input(\"Enter your String\")\n",
    "count=0\n",
    "for i in str:\n",
    "    count+=1\n",
    "print(\"Length=\",count)"
   ]
  },
  {
   "cell_type": "markdown",
   "metadata": {},
   "source": [
    "### 05) WAP to print even length word in string."
   ]
  },
  {
   "cell_type": "code",
   "execution_count": 13,
   "metadata": {},
   "outputs": [
    {
     "name": "stdin",
     "output_type": "stream",
     "text": [
      "Enter your String Hi I am Mansi\n"
     ]
    },
    {
     "name": "stdout",
     "output_type": "stream",
     "text": [
      "Hi\n",
      "am\n"
     ]
    }
   ],
   "source": [
    "str=input(\"Enter your String\")\n",
    "s=str.split()\n",
    "for i in s:\n",
    "    if(len(i)%2==0):\n",
    "        print(i)"
   ]
  },
  {
   "cell_type": "markdown",
   "metadata": {},
   "source": [
    "### 06) WAP to count numbers of vowels in given string."
   ]
  },
  {
   "cell_type": "code",
   "execution_count": 16,
   "metadata": {},
   "outputs": [
    {
     "name": "stdin",
     "output_type": "stream",
     "text": [
      "Enter your String Mansi\n"
     ]
    },
    {
     "name": "stdout",
     "output_type": "stream",
     "text": [
      "2\n"
     ]
    }
   ],
   "source": [
    "str=input(\"Enter your String\")\n",
    "count=0\n",
    "for i in str:\n",
    "    if 'a' in i or 'e' in i or 'i' in i or 'o' in i or 'u' in i:\n",
    "        count+=1\n",
    "print(count)"
   ]
  },
  {
   "cell_type": "markdown",
   "metadata": {},
   "source": [
    "### 07) WAP to capitalize the first and last character of each word in a string."
   ]
  },
  {
   "cell_type": "code",
   "execution_count": 60,
   "metadata": {},
   "outputs": [
    {
     "name": "stdin",
     "output_type": "stream",
     "text": [
      "Enter your String: hi I am Mansi\n"
     ]
    },
    {
     "name": "stdout",
     "output_type": "stream",
     "text": [
      "HI I AM MansI \n"
     ]
    }
   ],
   "source": [
    "str=input(\"Enter your String:\")\n",
    "s=str.split()\n",
    "ans=\"\"\n",
    "for i in s:\n",
    "    if(len(i)==1):\n",
    "        ans+=i.upper()+\" \" \n",
    "    else:\n",
    "        ans+=i[0:1].upper()+i[1:len(i)-1]+i[len(i)-1].upper()+\" \"\n",
    "print(ans)"
   ]
  },
  {
   "cell_type": "markdown",
   "metadata": {},
   "source": [
    "### 08) WAP to convert given array to string."
   ]
  },
  {
   "cell_type": "code",
   "execution_count": 72,
   "metadata": {},
   "outputs": [
    {
     "name": "stdin",
     "output_type": "stream",
     "text": [
      "Enter your Size 5\n",
      "Enter your value in array 1\n",
      "Enter your value in array 1\n",
      "Enter your value in array 1\n",
      "Enter your value in array 1\n",
      "Enter your value in array 1\n"
     ]
    },
    {
     "name": "stdout",
     "output_type": "stream",
     "text": [
      "11111\n"
     ]
    }
   ],
   "source": [
    "x=int(input(\"Enter your Size\"))\n",
    "a=[]\n",
    "for i in range(x):\n",
    "    b=int(input(\"Enter your value in array\"))\n",
    "    a.append(b)\n",
    "\n",
    "ans=\"\"\n",
    "for i in a:\n",
    "    ans+=\"{}\".format(i)\n",
    "print(ans)"
   ]
  },
  {
   "cell_type": "markdown",
   "metadata": {},
   "source": [
    "### 09) Check if the password and confirm password is same or not. \n",
    "### In case of only case's mistake, show the error message."
   ]
  },
  {
   "cell_type": "code",
   "execution_count": 79,
   "metadata": {},
   "outputs": [
    {
     "name": "stdin",
     "output_type": "stream",
     "text": [
      "Enter your password: Manis\n",
      "Enter your confirm Password: manis\n"
     ]
    },
    {
     "name": "stdout",
     "output_type": "stream",
     "text": [
      "Case mistake\n"
     ]
    }
   ],
   "source": [
    "str1=input(\"Enter your password:\")\n",
    "str2=input(\"Enter your confirm Password:\")\n",
    "if(str1==str2):\n",
    "    print(\"Same\")\n",
    "elif(str1.lower()==str2.lower()):\n",
    "    print(\"Case mistake\")\n",
    "else:\n",
    "    print(\"Not same\")"
   ]
  },
  {
   "cell_type": "markdown",
   "metadata": {},
   "source": [
    "### 10) : Display credit card number. \n",
    "### card no. : 1234 5678 9012 3456\n",
    "### display as  : **** **** **** 3456"
   ]
  },
  {
   "cell_type": "code",
   "execution_count": 85,
   "metadata": {},
   "outputs": [
    {
     "name": "stdin",
     "output_type": "stream",
     "text": [
      "Enter your String: 1234 5678 9012 3456\n"
     ]
    },
    {
     "name": "stdout",
     "output_type": "stream",
     "text": [
      "**** **** **** 3456\n"
     ]
    }
   ],
   "source": [
    "str1=input(\"Enter your String:\")\n",
    "s=str1.split()\n",
    "x=s[len(s)-1]\n",
    "y=s[0:len(s)-1]\n",
    "ans=\"\"\n",
    "for i in y:\n",
    "    for j in i:\n",
    "        ans+=\"*\"\n",
    "    ans+=\" \"\n",
    "ans+=x\n",
    "print(ans)"
   ]
  },
  {
   "cell_type": "markdown",
   "metadata": {},
   "source": [
    "### 11) : Checking if the two strings are Anagram or not.\n",
    "### s1 = decimal and s2 = medical are Anagram"
   ]
  },
  {
   "cell_type": "code",
   "execution_count": 91,
   "metadata": {},
   "outputs": [
    {
     "name": "stdin",
     "output_type": "stream",
     "text": [
      "Enter your string1: mansi\n",
      "Enter your string2 : darshi\n"
     ]
    },
    {
     "name": "stdout",
     "output_type": "stream",
     "text": [
      "Not Anagram\n"
     ]
    }
   ],
   "source": [
    "str1=input(\"Enter your string1:\")\n",
    "str2=input(\"Enter your string2 :\")\n",
    "for i in str1:\n",
    "    if i not in str2:\n",
    "        print(\"Not Anagram\")\n",
    "        break\n",
    "else:\n",
    "    print(\"Anagram\")"
   ]
  },
  {
   "cell_type": "markdown",
   "metadata": {},
   "source": [
    "### 12) : Rearrange the given string. First lowercase then uppercase alphabets.\n",
    "### input : EHlsarwiwhtwMV\n",
    "### output : lsarwiwhtwEHMV"
   ]
  },
  {
   "cell_type": "code",
   "execution_count": 96,
   "metadata": {},
   "outputs": [
    {
     "name": "stdin",
     "output_type": "stream",
     "text": [
      "Enter your String: EHlsarwiwhtwMV\n"
     ]
    },
    {
     "name": "stdout",
     "output_type": "stream",
     "text": [
      "EHMVlsarwiwhtw\n"
     ]
    }
   ],
   "source": [
    "str1=input(\"Enter your String:\")\n",
    "lower=\"\"\n",
    "upper=\"\"\n",
    "for i in str1:\n",
    "    if i.isupper():\n",
    "        upper+=i\n",
    "    else:\n",
    "        lower+=i;\n",
    "print(upper+lower)"
   ]
  }
 ],
 "metadata": {
  "kernelspec": {
   "display_name": "Python 3 (ipykernel)",
   "language": "python",
   "name": "python3"
  },
  "language_info": {
   "codemirror_mode": {
    "name": "ipython",
    "version": 3
   },
   "file_extension": ".py",
   "mimetype": "text/x-python",
   "name": "python",
   "nbconvert_exporter": "python",
   "pygments_lexer": "ipython3",
   "version": "3.12.6"
  },
  "vscode": {
   "interpreter": {
    "hash": "31f2aee4e71d21fbe5cf8b01ff0e069b9275f58929596ceb00d14d90e3e16cd6"
   }
  }
 },
 "nbformat": 4,
 "nbformat_minor": 4
}
