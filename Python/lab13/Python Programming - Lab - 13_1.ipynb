{
 "cells": [
  {
   "cell_type": "markdown",
   "metadata": {},
   "source": [
    "<a href='https://www.darshan.ac.in/'> <img src='https://www.darshan.ac.in/Content/media/DU_Logo.svg' width=\"250\" height=\"300\"/></a>\n",
    "<pre>\n",
    "<center><b><h1>Python Programming - 2301CS404</b></center>\n",
    "<center><b><h1>Lab - 13</b></center> \n",
    "<center><b><h1>23010101177|Nimavat Mansi|3-3-2025</b></center>    \n",
    "\n",
    "<pre>"
   ]
  },
  {
   "cell_type": "markdown",
   "metadata": {},
   "source": [
    "# OOP"
   ]
  },
  {
   "cell_type": "markdown",
   "metadata": {},
   "source": [
    "### 01) Write a Program to create a class by name Students, and initialize attributes like name, age, and grade while creating an object."
   ]
  },
  {
   "cell_type": "code",
   "execution_count": 3,
   "metadata": {},
   "outputs": [
    {
     "name": "stdout",
     "output_type": "stream",
     "text": [
      "Mansi 18 A\n"
     ]
    }
   ],
   "source": [
    "class Students:\n",
    "    name=\"Mansi\";\n",
    "    age=18;\n",
    "    grade=\"A\";\n",
    "s=Students();\n",
    "print(s.name,s.age,s.grade)"
   ]
  },
  {
   "cell_type": "markdown",
   "metadata": {},
   "source": [
    "### 02) Create a class named Bank_Account with Account_No, User_Name, Email,Account_Type and Account_Balance data members. Also create a method GetAccountDetails() and DisplayAccountDetails(). Create main method to demonstrate the Bank_Account class."
   ]
  },
  {
   "cell_type": "code",
   "execution_count": 4,
   "metadata": {},
   "outputs": [
    {
     "name": "stdout",
     "output_type": "stream",
     "text": [
      "Account_No : 123654987\n",
      "User_Name : Shruti\n",
      "Email : shruti@gmail.com\n",
      "Account_Type : valid\n",
      "Account_Balance : 20000000\n"
     ]
    }
   ],
   "source": [
    "class Bank_Account:\n",
    "    Account_No = ''\n",
    "    User_Name = ''\n",
    "    Email = ''\n",
    "    Account_Type = ''\n",
    "    Account_Balance = 0\n",
    "    def GetAccountDetails(self,Account_No,User_Name,Email,Account_Type,Account_Balance):\n",
    "        self.Account_No = Account_No\n",
    "        self.User_Name = User_Name\n",
    "        self.Email = Email\n",
    "        self.Account_Type = Account_Type\n",
    "        self.Account_Balance = Account_Balance\n",
    "\n",
    "    def DisplayAccountDetails(self):\n",
    "        print(\"Account_No :\",self.Account_No)\n",
    "        print(\"User_Name :\",self.User_Name)\n",
    "        print(\"Email :\",self.Email)\n",
    "        print(\"Account_Type :\",self.Account_Type)\n",
    "        print(\"Account_Balance :\",self.Account_Balance)\n",
    "\n",
    "#This is for main method \n",
    "if __name__ == '__main__':\n",
    "    Bn = Bank_Account()\n",
    "    Bn.GetAccountDetails('123654987','Shruti','shruti@gmail.com','valid',20000000)\n",
    "    Bn.DisplayAccountDetails()"
   ]
  },
  {
   "cell_type": "markdown",
   "metadata": {},
   "source": [
    "### 03) WAP to create Circle class with area and perimeter function to find area and perimeter of circle."
   ]
  },
  {
   "cell_type": "code",
   "execution_count": 14,
   "metadata": {},
   "outputs": [
    {
     "name": "stdout",
     "output_type": "stream",
     "text": [
      "153.93804002589985\n",
      "31.41592653589793\n"
     ]
    }
   ],
   "source": [
    "import math\n",
    "class Circle:\n",
    "    r=0\n",
    "    def Area(self,r):\n",
    "        self.r=r\n",
    "        return math.pi*r*r\n",
    "    def peri(self,r):\n",
    "        self.r=r;\n",
    "        return 2*math.pi*self.r\n",
    "c=Circle()\n",
    "print(c.Area(7))\n",
    "print(c.peri(5))"
   ]
  },
  {
   "cell_type": "markdown",
   "metadata": {},
   "source": [
    "### 04) Create a class for employees that includes attributes such as name, age, salary, and methods to update and display employee information."
   ]
  },
  {
   "cell_type": "code",
   "execution_count": 31,
   "metadata": {},
   "outputs": [
    {
     "name": "stdout",
     "output_type": "stream",
     "text": [
      "Name: Alice, Age: 30, Salary: 50000\n",
      "\n",
      "update information......\n",
      "\n",
      "Name: Alice, Age: 31, Salary: 55000\n"
     ]
    }
   ],
   "source": [
    "class Employee:\n",
    "    def __init__(self, name, age, salary):\n",
    "        self.name = name\n",
    "        self.age = age\n",
    "        self.salary = salary\n",
    "    \n",
    "    def update_info(self, name=None, age=None, salary=None):\n",
    "        if name:\n",
    "            self.name = name\n",
    "        if age:\n",
    "            self.age = age\n",
    "        if salary:\n",
    "            self.salary = salary\n",
    "    \n",
    "    def display_info(self):\n",
    "        return f\"Name: {self.name}, Age: {self.age}, Salary: {self.salary}\"\n",
    "\n",
    "# Example usage\n",
    "emp1 = Employee(\"Alice\", 30, 50000)\n",
    "print(emp1.display_info())  # Output: Name: Alice, Age: 30, Salary: $50000\n",
    "\n",
    "print(\"\\nupdate information......\\n\")\n",
    "emp1.update_info(age=31, salary=55000)\n",
    "print(emp1.display_info())  # Output: Name: Alice, Age: 31, Salary: $55000\n"
   ]
  },
  {
   "cell_type": "markdown",
   "metadata": {},
   "source": [
    "### 05) Create a bank account class with methods to deposit, withdraw, and check balance."
   ]
  },
  {
   "cell_type": "code",
   "execution_count": 20,
   "metadata": {},
   "outputs": [
    {
     "name": "stdout",
     "output_type": "stream",
     "text": [
      "5000\n",
      "1000\n",
      "2000\n"
     ]
    }
   ],
   "source": [
    "class Bank:\n",
    "    balance=0\n",
    "    def deposit(self,balance,money):\n",
    "        self.balance=balance;\n",
    "        balance+=money\n",
    "        return balance\n",
    "    def Withdraw (self,balance,money):\n",
    "        self.balance=balance\n",
    "        balance-=money\n",
    "        return balance\n",
    "    def check_balance(self):\n",
    "        return self.balance\n",
    "b=Bank();\n",
    "print(b.deposit(2000,3000))\n",
    "print(b.Withdraw(2000,1000))\n",
    "print(b.check_balance())"
   ]
  },
  {
   "cell_type": "markdown",
   "metadata": {},
   "source": [
    "### 06) Create a class for managing inventory that includes attributes such as item name, price, quantity, and methods to add, remove, and update items."
   ]
  },
  {
   "cell_type": "code",
   "execution_count": 32,
   "metadata": {},
   "outputs": [
    {
     "name": "stdin",
     "output_type": "stream",
     "text": [
      "Enter your items name:  wrsfgvtr\n",
      "Enter item price : 24\n",
      "Enter a quantity of your item: 3\n"
     ]
    },
    {
     "name": "stdout",
     "output_type": "stream",
     "text": [
      "\n",
      " after add data...\n",
      "\n",
      "Item name is : wrsfgvtr\n",
      "Item price is : 24.0\n",
      "Item quantity is :  3\n",
      "\n",
      " after update Items........\n",
      "\n",
      "Item name is : laptop\n",
      "Item price is : 1000000\n",
      "Item quantity is :  3\n",
      "\n",
      " after delete Items........\n",
      "\n",
      "Item name is : None\n",
      "Item price is : None\n",
      "Item quantity is :  None\n"
     ]
    }
   ],
   "source": [
    "class Managing_inventory:\n",
    "    def _init_ (self):\n",
    "        pass\n",
    "\n",
    "    def AddItems(self):\n",
    "        self.name = input(\"Enter your items name: \")\n",
    "        self.price = float(input(\"Enter item price :\"))\n",
    "        self.quantity = int(input(\"Enter a quantity of your item:\"))\n",
    "\n",
    "    def DisplayItem(self):\n",
    "        print(\"Item name is :\",self.name)\n",
    "        print(\"Item price is :\",self.price)\n",
    "        print(\"Item quantity is : \",self.quantity)\n",
    "\n",
    "    def  UpdateItem(self,name=None,price=None,quantity=None):\n",
    "        if name:\n",
    "            self.name = name\n",
    "        if price:\n",
    "            self.price = price\n",
    "        if quantity:\n",
    "            self.quantity = quantity\n",
    "\n",
    "    def DeleteItem(self):\n",
    "        self.name = None\n",
    "        self.price = None\n",
    "        self.quantity = None\n",
    "\n",
    "items = Managing_inventory()\n",
    "items.AddItems()\n",
    "\n",
    "print(\"\\n after add data...\\n\")\n",
    "items.DisplayItem()\n",
    "\n",
    "print(\"\\n after update Items........\\n\")\n",
    "items.UpdateItem(name='laptop' , price =1000000)\n",
    "items.DisplayItem()\n",
    "\n",
    "print(\"\\n after delete Items........\\n\")\n",
    "items.DeleteItem()\n",
    "items.DisplayItem()"
   ]
  },
  {
   "cell_type": "markdown",
   "metadata": {},
   "source": [
    "### 07) Create a Class with instance attributes of your choice."
   ]
  },
  {
   "cell_type": "code",
   "execution_count": 23,
   "metadata": {},
   "outputs": [
    {
     "name": "stdout",
     "output_type": "stream",
     "text": [
      "Mansi 19\n"
     ]
    }
   ],
   "source": [
    "class profile:\n",
    "    def __init__(self,name,age):\n",
    "        self.name=name\n",
    "        self.age=age\n",
    "p=profile(\"Mansi\",19)\n",
    "print(p.name,p.age)"
   ]
  },
  {
   "cell_type": "markdown",
   "metadata": {},
   "source": [
    "### 08) Create one class student_kit\n",
    "#### Within the student_kit class create one class attribute principal name ( Mr ABC )\n",
    "#### Create one attendance method and take input as number of days.\n",
    "#### While creating student take input their name .\n",
    "#### Create one certificate for each student by taking input of number of days present in class."
   ]
  },
  {
   "cell_type": "code",
   "execution_count": 30,
   "metadata": {},
   "outputs": [
    {
     "name": "stdout",
     "output_type": "stream",
     "text": [
      "Certificate of Attendance\n",
      "This is to certify that mansi has attended 100 days of class.\n",
      "\n"
     ]
    }
   ],
   "source": [
    "class student_kit:\n",
    "    def __init__(self,name,days):\n",
    "        self.name=name\n",
    "        self.days=days\n",
    "    \n",
    "    def attendance(self,days):\n",
    "        self.days=days\n",
    "    def generate_certificate(self):\n",
    "            return (f\"Certificate of Attendance\\n\"\n",
    "                    f\"This is to certify that {self.name} has attended {self.days} days of class.\\n\")\n",
    "s=student_kit(\"mansi\",100)\n",
    "print(s.generate_certificate())"
   ]
  },
  {
   "cell_type": "markdown",
   "metadata": {},
   "source": [
    "### 09) Define Time class with hour and minute as data member. Also define addition method to add two time objects."
   ]
  },
  {
   "cell_type": "code",
   "execution_count": 33,
   "metadata": {},
   "outputs": [
    {
     "name": "stdout",
     "output_type": "stream",
     "text": [
      "4 hours 20 minutes\n"
     ]
    }
   ],
   "source": [
    "class Time:\n",
    "    def __init__(self, hour, minute):\n",
    "        self.hour = hour\n",
    "        self.minute = minute\n",
    "    \n",
    "    def add(self, other):\n",
    "        total_minutes = self.minute + other.minute\n",
    "        extra_hours = total_minutes // 60\n",
    "        minutes = total_minutes % 60\n",
    "        hours = self.hour + other.hour + extra_hours\n",
    "        return Time(hours, minutes)\n",
    "    \n",
    "    def display(self):\n",
    "        print(f\"{self.hour} hours {self.minute} minutes\")\n",
    "\n",
    "time1 = Time(2, 50)\n",
    "time2 = Time(1, 30)\n",
    "time3 = time1.add(time2)\n",
    "time3.display() "
   ]
  },
  {
   "cell_type": "code",
   "execution_count": null,
   "metadata": {},
   "outputs": [],
   "source": []
  }
 ],
 "metadata": {
  "kernelspec": {
   "display_name": "Python 3 (ipykernel)",
   "language": "python",
   "name": "python3"
  },
  "language_info": {
   "codemirror_mode": {
    "name": "ipython",
    "version": 3
   },
   "file_extension": ".py",
   "mimetype": "text/x-python",
   "name": "python",
   "nbconvert_exporter": "python",
   "pygments_lexer": "ipython3",
   "version": "3.13.0"
  }
 },
 "nbformat": 4,
 "nbformat_minor": 4
}
