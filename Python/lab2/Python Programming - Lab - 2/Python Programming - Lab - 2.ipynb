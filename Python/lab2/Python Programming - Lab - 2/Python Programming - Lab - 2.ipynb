{
 "cells": [
  {
   "cell_type": "markdown",
   "metadata": {},
   "source": [
    "\n",
    "<a href='https://www.darshan.ac.in/'> <img src='https://www.darshan.ac.in/Content/media/DU_Logo.svg' width=\"250\" height=\"300\"/></a>\n",
    "<pre>\n",
    "<center><b><h1>Python Programming - 2301CS404</b></center>\n",
    "<center><b><h1>Lab - 2</b></center>    \n",
    "<center><b><h1>Nimavat Mansi Dilipbhai |23010101177 | 02-12-2024</b></center>  \n",
    "<pre>"
   ]
  },
  {
   "cell_type": "code",
   "execution_count": null,
   "metadata": {},
   "outputs": [],
   "source": [
    "# if..else.."
   ]
  },
  {
   "cell_type": "markdown",
   "metadata": {},
   "source": [
    "### 01) WAP to check whether the given number is positive or negative."
   ]
  },
  {
   "cell_type": "code",
   "execution_count": 7,
   "metadata": {},
   "outputs": [
    {
     "name": "stdin",
     "output_type": "stream",
     "text": [
      "Enter your number 2\n"
     ]
    },
    {
     "name": "stdout",
     "output_type": "stream",
     "text": [
      "2  is positive\n"
     ]
    }
   ],
   "source": [
    "a=int(input(\"Enter your number\"))\n",
    "if(a>0):\n",
    "            print(a,\" is positive\") \n",
    "elif(a==0):\n",
    "    print(a,\" is zero\")\n",
    "else:\n",
    "      print(a,\" is negative\")"
   ]
  },
  {
   "cell_type": "markdown",
   "metadata": {},
   "source": [
    "### 02) WAP to check whether the given number is odd or even."
   ]
  },
  {
   "cell_type": "code",
   "execution_count": 9,
   "metadata": {},
   "outputs": [
    {
     "name": "stdin",
     "output_type": "stream",
     "text": [
      "Enter your number 13\n"
     ]
    },
    {
     "name": "stdout",
     "output_type": "stream",
     "text": [
      "13  is odd\n"
     ]
    }
   ],
   "source": [
    "a=int(input(\"Enter your number\"))\n",
    "if(a%2==0):\n",
    "            print(a,\" is even\") \n",
    "else:\n",
    "      print(a,\" is odd\")"
   ]
  },
  {
   "cell_type": "markdown",
   "metadata": {},
   "source": [
    "### 03) WAP to find out largest number from given two numbers using simple if and ternary operator."
   ]
  },
  {
   "cell_type": "code",
   "execution_count": 11,
   "metadata": {},
   "outputs": [
    {
     "name": "stdin",
     "output_type": "stream",
     "text": [
      "Enter your number 2\n",
      "Enter your number 5\n"
     ]
    },
    {
     "name": "stdout",
     "output_type": "stream",
     "text": [
      "5  is greater than  2\n"
     ]
    }
   ],
   "source": [
    "a=int(input(\"Enter your number\"))\n",
    "b=int(input(\"Enter your number\"))\n",
    "if(a>b):\n",
    "    print(a,\" is greater than \",b)\n",
    "else:\n",
    "    print(b,\" is greater than \",a)"
   ]
  },
  {
   "cell_type": "code",
   "execution_count": 14,
   "metadata": {},
   "outputs": [
    {
     "name": "stdin",
     "output_type": "stream",
     "text": [
      "Enter your number 2\n",
      "Enter your number 4\n"
     ]
    },
    {
     "name": "stdout",
     "output_type": "stream",
     "text": [
      "Maximum from  2  and  4  is  4\n"
     ]
    }
   ],
   "source": [
    "a=int(input(\"Enter your number\"))\n",
    "b=int(input(\"Enter your number\"))\n",
    "print(\"Maximum from \",a,\" and \",b,\" is \",(a if(a>b) else b))"
   ]
  },
  {
   "cell_type": "markdown",
   "metadata": {},
   "source": [
    "### 04) WAP to find out largest number from given three numbers."
   ]
  },
  {
   "cell_type": "code",
   "execution_count": 16,
   "metadata": {},
   "outputs": [
    {
     "name": "stdin",
     "output_type": "stream",
     "text": [
      "Enter your number 3\n",
      "Enter your number 1\n",
      "Enter your number 5\n"
     ]
    },
    {
     "name": "stdout",
     "output_type": "stream",
     "text": [
      "Maximum is  5\n"
     ]
    }
   ],
   "source": [
    "a=int(input(\"Enter your number\"))\n",
    "b=int(input(\"Enter your number\"))\n",
    "c=int(input(\"Enter your number\"))\n",
    "print(\"Maximum is \",((a if(a>c) else c)  if(a>b) else(b if(b>c) else c)))\n"
   ]
  },
  {
   "cell_type": "markdown",
   "metadata": {},
   "source": [
    "### 05) WAP to check whether the given year is leap year or not.\n",
    "[If a year can be divisible by 4 but not divisible by 100 then it is leap year but if it is divisible by 400 then it is leap year]"
   ]
  },
  {
   "cell_type": "code",
   "execution_count": 19,
   "metadata": {},
   "outputs": [
    {
     "name": "stdin",
     "output_type": "stream",
     "text": [
      "Enter Year 1988\n"
     ]
    },
    {
     "name": "stdout",
     "output_type": "stream",
     "text": [
      "leap year\n"
     ]
    }
   ],
   "source": [
    "a=int(input(\"Enter Year\"))\n",
    "if(a%400==0):\n",
    "    print(\"Leap Year\")\n",
    "else:\n",
    "    if(a%4==0 and a%100!=0):\n",
    "        print(\"leap year\")\n",
    "    else:\n",
    "        print(\" Not leap year\")"
   ]
  },
  {
   "cell_type": "markdown",
   "metadata": {},
   "source": [
    "### 06) WAP in python to display the name of the day according to the number given by the user."
   ]
  },
  {
   "cell_type": "code",
   "execution_count": 20,
   "metadata": {},
   "outputs": [
    {
     "name": "stdin",
     "output_type": "stream",
     "text": [
      "Enter any number 7\n"
     ]
    },
    {
     "name": "stdout",
     "output_type": "stream",
     "text": [
      "Sunday\n"
     ]
    }
   ],
   "source": [
    "a=int(input(\"Enter any number\"))\n",
    "if(a%7==1):\n",
    "    print(\"Monday\")\n",
    "elif(a%7==2):\n",
    "    print(\"Tuesday\")\n",
    "elif(a%7==3):\n",
    "    print(\"Wednesday\")\n",
    "elif(a%7==4):\n",
    "    print(\"Thursday\")\n",
    "elif(a%7==5):\n",
    "    print(\"Friday\")\n",
    "elif(a%7==6):\n",
    "    print(\"Saturday\")\n",
    "else:\n",
    "    print(\"Sunday\")\n",
    "\n",
    "\n"
   ]
  },
  {
   "cell_type": "markdown",
   "metadata": {},
   "source": [
    "### 07) WAP to implement simple calculator which performs (add,sub,mul,div) of two no. based on user input."
   ]
  },
  {
   "cell_type": "code",
   "execution_count": 22,
   "metadata": {},
   "outputs": [
    {
     "name": "stdin",
     "output_type": "stream",
     "text": [
      "Enter your number 4\n",
      "Enter your number 5\n",
      "Enter Operator /\n"
     ]
    },
    {
     "name": "stdout",
     "output_type": "stream",
     "text": [
      "Ans is  0.8\n"
     ]
    }
   ],
   "source": [
    "a=int(input(\"Enter your number\"))\n",
    "b=int(input(\"Enter your number\"))\n",
    "c=input(\"Enter Operator\")\n",
    "if(c==\"+\"):\n",
    "    print(\"Ans is \",a+b)\n",
    "elif(c==\"-\"):\n",
    "    print(\"Ans is \",a-b)\n",
    "elif(c==\"*\"):\n",
    "    print(\"Ans is \",a*b)\n",
    "elif(c==\"/\"):\n",
    "    print(\"Ans is \",a/b)\n",
    "else:\n",
    "    print(\"Invalid Operator\")"
   ]
  },
  {
   "cell_type": "markdown",
   "metadata": {},
   "source": [
    "### 08) WAP to read marks of five subjects. Calculate percentage and print class accordingly. \n",
    "Fail below 35 </br>\n",
    "Pass Class between 35 to 45 </br>\n",
    "Second Class</br>\n",
    "between 45 to 60</br>\n",
    "First Class between 60 to 70</br> \n",
    "Distinction if more than 70"
   ]
  },
  {
   "cell_type": "code",
   "execution_count": 24,
   "metadata": {},
   "outputs": [
    {
     "name": "stdin",
     "output_type": "stream",
     "text": [
      "Enter your marks in subject1: 95\n",
      "Enter your marks in subject2: 78\n",
      "Enter your marks in subject3: 89\n",
      "Enter your marks in subject4: 99\n",
      "Enter your marks in subject5: 70\n"
     ]
    },
    {
     "name": "stdout",
     "output_type": "stream",
     "text": [
      "Distinction\n"
     ]
    }
   ],
   "source": [
    "s1=int(input(\"Enter your marks in subject1:\"))\n",
    "s2=int(input(\"Enter your marks in subject2:\"))\n",
    "s3=int(input(\"Enter your marks in subject3:\"))\n",
    "s4=int(input(\"Enter your marks in subject4:\"))\n",
    "s5=int(input(\"Enter your marks in subject5:\"))\n",
    "ans=(s1+s2+s3+s4+s5)/5\n",
    "if(ans<35):\n",
    "    print(\"Fail\")\n",
    "elif(ans<45 and ans>=35):\n",
    "    print(\"Pass\")\n",
    "elif(ans<60 and ans>=45):\n",
    "    print(\" Second Class\")\n",
    "elif(ans<70 and ans>=60):\n",
    "    print(\"First Class\")\n",
    "else:\n",
    "    print(\"Distinction\")\n"
   ]
  },
  {
   "cell_type": "markdown",
   "metadata": {},
   "source": [
    "### 09) Three sides of a triangle are entered through the keyboard, WAP to check whether the triangle is isosceles, equilateral, scalene or right-angled triangle."
   ]
  },
  {
   "cell_type": "code",
   "execution_count": 28,
   "metadata": {},
   "outputs": [
    {
     "name": "stdin",
     "output_type": "stream",
     "text": [
      "Enter side1: 2\n",
      "Enter side2: 6\n",
      "Enter side3: 8\n"
     ]
    },
    {
     "name": "stdout",
     "output_type": "stream",
     "text": [
      "Scalene\n"
     ]
    }
   ],
   "source": [
    "a=int(input(\"Enter side1:\"))\n",
    "b=int(input(\"Enter side2:\"))\n",
    "c=int(input(\"Enter side3:\"))\n",
    "if(a==b and b==c):\n",
    "    print(\"Equilateral\")\n",
    "\n",
    "elif(a!=b and b!=c and c!=a):\n",
    "    max=((a if(a>c) else c)  if(a>b) else(b if(b>c) else c))\n",
    "    if(max==a):\n",
    "        if(a**2==(b**2+c**2)):\n",
    "            print(\"Right Angle\")\n",
    "        else:\n",
    "            print(\"Scalene\")\n",
    "    if(max==b):\n",
    "        if(b**2==(a**2+c**2)):\n",
    "            print(\"Right Angle\")\n",
    "        else:\n",
    "            print(\"Scalene\")\n",
    "    if(max==c):\n",
    "        if(c**2==(b**2+a**2)):\n",
    "            print(\"Right Angle\")\n",
    "        else:\n",
    "            print(\"Scalene\")\n",
    "else:\n",
    "    print(\"Isosceles\")\n",
    "        "
   ]
  },
  {
   "cell_type": "markdown",
   "metadata": {},
   "source": [
    "### 10) WAP to find the second largest number among three user input numbers."
   ]
  },
  {
   "cell_type": "code",
   "execution_count": 45,
   "metadata": {},
   "outputs": [
    {
     "name": "stdin",
     "output_type": "stream",
     "text": [
      "Enter your number 30\n",
      "Enter your number 40\n",
      "Enter your number 50\n"
     ]
    },
    {
     "name": "stdout",
     "output_type": "stream",
     "text": [
      "40  is second largest\n"
     ]
    }
   ],
   "source": [
    "a=int(input(\"Enter your number\"))\n",
    "b=int(input(\"Enter your number\"))\n",
    "c=int(input(\"Enter your number\"))\n",
    "if(a>b):\n",
    "    if(a>c):\n",
    "        if(b>c):\n",
    "            print(b,\" is second largest\")\n",
    "        else:\n",
    "            print(c,\" is second largest\")\n",
    "    else:\n",
    "            print(a,\" is second largest\")\n",
    "else:\n",
    "    if(b>c):\n",
    "        if(a>c):\n",
    "            print(a,\" is second largest\")\n",
    "        else:\n",
    "            print(c,\" is second largest\")\n",
    "    else:\n",
    "            print(b,\" is second largest\")"
   ]
  },
  {
   "cell_type": "markdown",
   "metadata": {},
   "source": [
    "### 11) WAP to calculate electricity bill based on following criteria. Which takes the unit from the user.\n",
    "a. First 1 to 50 units – Rs. 2.60/unit</br>\n",
    "b. Next 50 to 100 units – Rs. 3.25/unit</br>\n",
    "c. Next 100 to 200 units – Rs. 5.26/unit</br>\n",
    "d. above 200 units – Rs. 8.45/unit"
   ]
  },
  {
   "cell_type": "code",
   "execution_count": 3,
   "metadata": {},
   "outputs": [
    {
     "name": "stdin",
     "output_type": "stream",
     "text": [
      "Enter units:  200\n"
     ]
    },
    {
     "name": "stdout",
     "output_type": "stream",
     "text": [
      "Total cost: 818.5\n"
     ]
    }
   ],
   "source": [
    "a = int(input(\"Enter units: \"))\n",
    "ans = 0\n",
    "\n",
    "while a > 0:\n",
    "    if a >= 1 and a <= 50:\n",
    "        ans += a * 2.6\n",
    "        a -= a  \n",
    "    elif a > 50 and a <= 100:\n",
    "        ans += (a - 50) * 3.25  \n",
    "        a = 50 \n",
    "    elif a > 100 and a <= 200:\n",
    "        ans += (a - 100) * 5.26  \n",
    "        a = 100  \n",
    "    else: \n",
    "        ans += (a - 200) * 8.45 \n",
    "        a = 200 \n",
    "print(f\"Total cost: {ans}\")\n"
   ]
  },
  {
   "cell_type": "code",
   "execution_count": 1,
   "metadata": {},
   "outputs": [
    {
     "name": "stdout",
     "output_type": "stream",
     "text": [
      "isnam\n"
     ]
    }
   ],
   "source": []
  },
  {
   "cell_type": "code",
   "execution_count": null,
   "metadata": {},
   "outputs": [],
   "source": []
  }
 ],
 "metadata": {
  "kernelspec": {
   "display_name": "Python 3 (ipykernel)",
   "language": "python",
   "name": "python3"
  },
  "language_info": {
   "codemirror_mode": {
    "name": "ipython",
    "version": 3
   },
   "file_extension": ".py",
   "mimetype": "text/x-python",
   "name": "python",
   "nbconvert_exporter": "python",
   "pygments_lexer": "ipython3",
   "version": "3.12.6"
  }
 },
 "nbformat": 4,
 "nbformat_minor": 4
}
