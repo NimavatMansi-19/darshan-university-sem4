{
 "cells": [
  {
   "cell_type": "markdown",
   "metadata": {},
   "source": [
    "<a href='https://www.darshan.ac.in/'> <img src='https://www.darshan.ac.in/Content/media/DU_Logo.svg' width=\"250\" height=\"10\"/></a>\n",
    "<pre>\n",
    "<center><b><h1>Python Programming - 2301CS404</b></center>\n",
    "<center><b><h1>Lab - 1</b></center> \n",
    "<center><b><h1>23010101177|Nimavat Mansi Dilipbhai|25-11-2024</h1></b></center>\n",
    "<pre>"
   ]
  },
  {
   "cell_type": "code",
   "execution_count": null,
   "metadata": {},
   "outputs": [],
   "source": [
    "### 01) WAP to print “Hello World”"
   ]
  },
  {
   "cell_type": "code",
   "execution_count": 1,
   "metadata": {},
   "outputs": [
    {
     "name": "stdout",
     "output_type": "stream",
     "text": [
      "Hello World\n"
     ]
    }
   ],
   "source": [
    "print(\"Hello World\")"
   ]
  },
  {
   "cell_type": "markdown",
   "metadata": {},
   "source": [
    "### 02) WAP to print addition of two numbers with and without using input()."
   ]
  },
  {
   "cell_type": "code",
   "execution_count": 9,
   "metadata": {},
   "outputs": [
    {
     "name": "stdout",
     "output_type": "stream",
     "text": [
      "Addition of two numbers without input:: 7\n"
     ]
    },
    {
     "name": "stdin",
     "output_type": "stream",
     "text": [
      "Enter 1st number 2\n",
      "Enter 2nd Number 3\n"
     ]
    },
    {
     "name": "stdout",
     "output_type": "stream",
     "text": [
      "Addition of two numbers from user:: 5\n"
     ]
    }
   ],
   "source": [
    "a,b=5,2\n",
    "print(\"Addition of two numbers without input::\",a+b)\n",
    "num1=int(input(\"Enter 1st number\"))\n",
    "num2=int(input(\"Enter 2nd Number\"))\n",
    "print(\"Addition of two numbers from user::\",num1+num2)\n",
    "    "
   ]
  },
  {
   "cell_type": "markdown",
   "metadata": {},
   "source": [
    "### 03) WAP to check the type of the variable."
   ]
  },
  {
   "cell_type": "code",
   "execution_count": 10,
   "metadata": {},
   "outputs": [
    {
     "name": "stdout",
     "output_type": "stream",
     "text": [
      "<class 'int'>\n",
      "<class 'str'>\n"
     ]
    }
   ],
   "source": [
    "a=9\n",
    "print(type(a))\n",
    "b=\"mansi\"\n",
    "print(type(b))"
   ]
  },
  {
   "cell_type": "markdown",
   "metadata": {},
   "source": [
    "\n"
   ]
  },
  {
   "cell_type": "markdown",
   "metadata": {},
   "source": [
    "### 04) WAP to calculate simple interest."
   ]
  },
  {
   "cell_type": "code",
   "execution_count": 11,
   "metadata": {},
   "outputs": [
    {
     "name": "stdin",
     "output_type": "stream",
     "text": [
      "Enter Principle amount 2\n",
      "Enter rate 25\n",
      "Enter time in years 1\n"
     ]
    },
    {
     "name": "stdout",
     "output_type": "stream",
     "text": [
      "Interest id 0.5\n"
     ]
    }
   ],
   "source": [
    "p=int(input(\"Enter Principle amount\"))\n",
    "r=int(input(\"Enter rate\"))\n",
    "n=int(input(\"Enter time in years\"))\n",
    "ans=(p*r*n)/100\n",
    "print(\"Interest id\",ans)"
   ]
  },
  {
   "cell_type": "markdown",
   "metadata": {},
   "source": [
    "### 05) WAP to calculate area and perimeter of a circle."
   ]
  },
  {
   "cell_type": "code",
   "execution_count": 17,
   "metadata": {},
   "outputs": [
    {
     "name": "stdin",
     "output_type": "stream",
     "text": [
      "Enter radius 1\n"
     ]
    },
    {
     "name": "stdout",
     "output_type": "stream",
     "text": [
      "Area is:: 3.141592653589793\n",
      "Perimtere is:: 6.283185307179586\n"
     ]
    }
   ],
   "source": [
    "import math\n",
    "r=int(input(\"Enter radius\"))\n",
    "area=math.pi*r*r\n",
    "per=math.pi*2*r\n",
    "print(\"Area is::\",area)\n",
    "print(\"Perimtere is::\",per)\n"
   ]
  },
  {
   "cell_type": "markdown",
   "metadata": {},
   "source": [
    "### 06) WAP to calculate area of a triangle."
   ]
  },
  {
   "cell_type": "code",
   "execution_count": 18,
   "metadata": {},
   "outputs": [
    {
     "name": "stdin",
     "output_type": "stream",
     "text": [
      "Enter base 10\n",
      "Enter height 5\n"
     ]
    },
    {
     "name": "stdout",
     "output_type": "stream",
     "text": [
      "Area is:: 25.0\n"
     ]
    }
   ],
   "source": [
    "num1=int(input(\"Enter base\"))\n",
    "num2=int(input(\"Enter height\"))\n",
    "print(\"Area is::\", 0.5*(num1*num2))"
   ]
  },
  {
   "cell_type": "markdown",
   "metadata": {},
   "source": [
    "### 07) WAP to compute quotient and remainder."
   ]
  },
  {
   "cell_type": "code",
   "execution_count": 19,
   "metadata": {},
   "outputs": [
    {
     "name": "stdin",
     "output_type": "stream",
     "text": [
      "Enter 1st number:: 4\n",
      "Enter 2nd number 2\n"
     ]
    },
    {
     "name": "stdout",
     "output_type": "stream",
     "text": [
      "Quotient is:: 2.0 Remainder is:: 0\n"
     ]
    }
   ],
   "source": [
    "num1=int(input(\"Enter 1st number::\"))\n",
    "num2=int(input(\"Enter 2nd number\"))\n",
    "print(\"Quotient is::\",num1/num2,\"Remainder is::\",num1%num2)\n"
   ]
  },
  {
   "cell_type": "markdown",
   "metadata": {},
   "source": [
    "### 08) WAP to convert degree into Fahrenheit and vice versa."
   ]
  },
  {
   "cell_type": "code",
   "execution_count": 6,
   "metadata": {},
   "outputs": [
    {
     "name": "stdin",
     "output_type": "stream",
     "text": [
      "Enter Fahrenheit 32\n"
     ]
    },
    {
     "name": "stdout",
     "output_type": "stream",
     "text": [
      "Degree is:: 0.0\n"
     ]
    },
    {
     "name": "stdin",
     "output_type": "stream",
     "text": [
      "Enter Degree 456\n"
     ]
    },
    {
     "name": "stdout",
     "output_type": "stream",
     "text": [
      "Fahrenheit is:: 878.4\n"
     ]
    }
   ],
   "source": [
    "num1=int(input(\"Enter Fahrenheit\"))\n",
    "cel=(num1-32)*(5/9)\n",
    "print(\"Degree is::\",cel)\n",
    "num2=int(input(\"Enter Degree\"))\n",
    "far=(num2+32)*(9/5)\n",
    "print(\"Fahrenheit is::\",far)"
   ]
  },
  {
   "cell_type": "markdown",
   "metadata": {},
   "source": [
    "### 09) WAP to find the distance between two points in 2-D space."
   ]
  },
  {
   "cell_type": "code",
   "execution_count": 12,
   "metadata": {},
   "outputs": [
    {
     "name": "stdin",
     "output_type": "stream",
     "text": [
      "Enter x coordinate of 1st point  2\n",
      "Enter y coordinate of 1st point  -6\n",
      "Enter x coordinate of 2st point  7\n",
      "Enter y coordinate of 2st point  3\n"
     ]
    },
    {
     "name": "stdout",
     "output_type": "stream",
     "text": [
      "(4.582208742218757e-16+7.483314773547883j)\n"
     ]
    }
   ],
   "source": [
    "\n",
    "x1=int(input(\"Enter x coordinate of 1st point \"))\n",
    "y1=int(input(\"Enter y coordinate of 1st point \"))\n",
    "x2=int(input(\"Enter x coordinate of 2st point \"))\n",
    "y2=int(input(\"Enter y coordinate of 2st point \"))\n",
    "ans=((x2-x1)**2-(y2-y1)**2)**0.5\n",
    "print(ans)\n"
   ]
  },
  {
   "cell_type": "markdown",
   "metadata": {},
   "source": [
    "### 10) WAP to print sum of n natural numbers."
   ]
  },
  {
   "cell_type": "code",
   "execution_count": 14,
   "metadata": {},
   "outputs": [
    {
     "name": "stdin",
     "output_type": "stream",
     "text": [
      "Enter number:: 10\n"
     ]
    },
    {
     "name": "stdout",
     "output_type": "stream",
     "text": [
      "55\n"
     ]
    }
   ],
   "source": [
    "num1=int(input(\"Enter number::\"))\n",
    "ans=0\n",
    "while(num1!=0):\n",
    "    ans=ans+num1\n",
    "    num1=num1-1\n",
    "print(ans)"
   ]
  },
  {
   "cell_type": "markdown",
   "metadata": {},
   "source": [
    "### 11) WAP to print sum of square of n natural numbers."
   ]
  },
  {
   "cell_type": "code",
   "execution_count": 15,
   "metadata": {},
   "outputs": [
    {
     "name": "stdin",
     "output_type": "stream",
     "text": [
      "Enter number:: 10\n"
     ]
    },
    {
     "name": "stdout",
     "output_type": "stream",
     "text": [
      "385\n"
     ]
    }
   ],
   "source": [
    "num1=int(input(\"Enter number::\"))\n",
    "ans=0\n",
    "while(num1!=0):\n",
    "    ans=ans+num1**2\n",
    "    num1=num1-1\n",
    "print(ans)"
   ]
  },
  {
   "cell_type": "markdown",
   "metadata": {},
   "source": [
    "### 12) WAP to concate the first and last name of the student."
   ]
  },
  {
   "cell_type": "code",
   "execution_count": 16,
   "metadata": {},
   "outputs": [
    {
     "name": "stdin",
     "output_type": "stream",
     "text": [
      "Enter your First name Nimavat\n",
      "Enter your last name Mansi\n"
     ]
    },
    {
     "name": "stdout",
     "output_type": "stream",
     "text": [
      "Nimavat Mansi\n"
     ]
    }
   ],
   "source": [
    "fname=input(\"Enter your First name\")\n",
    "lname=input(\"Enter your last name\")\n",
    "print(fname,lname,sep=\" \")"
   ]
  },
  {
   "cell_type": "markdown",
   "metadata": {},
   "source": [
    "### 13) WAP to swap two numbers."
   ]
  },
  {
   "cell_type": "code",
   "execution_count": 18,
   "metadata": {},
   "outputs": [
    {
     "name": "stdin",
     "output_type": "stream",
     "text": [
      "Enter 1st number 2\n",
      "Enter 2nd Number 3\n"
     ]
    },
    {
     "name": "stdout",
     "output_type": "stream",
     "text": [
      "Before swapping num1= 2 num2= 3\n",
      "After swapping num1= 3 num2= 2\n"
     ]
    }
   ],
   "source": [
    "num1=int(input(\"Enter 1st number\"))\n",
    "num2=int(input(\"Enter 2nd Number\"))\n",
    "print(\"Before swapping num1=\",num1,\"num2=\",num2)\n",
    "x=num1\n",
    "num1=num2\n",
    "num2=x;\n",
    "print(\"After swapping num1=\",num1,\"num2=\",num2)"
   ]
  },
  {
   "cell_type": "markdown",
   "metadata": {},
   "source": [
    "### 14) WAP to get the distance from user into kilometer, and convert it into meter, feet, inches and centimeter."
   ]
  },
  {
   "cell_type": "code",
   "execution_count": 3,
   "metadata": {},
   "outputs": [
    {
     "name": "stdin",
     "output_type": "stream",
     "text": [
      "Enter the distance in kilometer:: 123\n"
     ]
    },
    {
     "name": "stdout",
     "output_type": "stream",
     "text": [
      "In meter 123000\n",
      "In feet 403563\n",
      "In Inches 4842510\n",
      "In Centimeter 12300000\n"
     ]
    }
   ],
   "source": [
    "km=int(input(\"Enter the distance in kilometer::\"))\n",
    "m=km*1000\n",
    "ft=km*3281\n",
    "inc=km*39370\n",
    "cm=km*100000\n",
    "print(\"In meter\",m)\n",
    "print(\"In feet\",ft)\n",
    "print(\"In Inches\",inc)\n",
    "print(\"In Centimeter\",cm)"
   ]
  },
  {
   "cell_type": "markdown",
   "metadata": {},
   "source": [
    "### 15) WAP to get day, month and year from the user and print the date in the given format: 23-11-2024."
   ]
  },
  {
   "cell_type": "code",
   "execution_count": 2,
   "metadata": {},
   "outputs": [
    {
     "name": "stdin",
     "output_type": "stream",
     "text": [
      "Enter day 23\n",
      "Enter month 11\n",
      "Enter year 2024\n"
     ]
    },
    {
     "name": "stdout",
     "output_type": "stream",
     "text": [
      "23-11-2024\n"
     ]
    }
   ],
   "source": [
    "day=int(input(\"Enter day\"))\n",
    "month=int(input(\"Enter month\"))\n",
    "year=int(input(\"Enter year\"))\n",
    "print(day,month,year, sep=\"-\")"
   ]
  },
  {
   "cell_type": "code",
   "execution_count": null,
   "metadata": {},
   "outputs": [],
   "source": []
  }
 ],
 "metadata": {
  "kernelspec": {
   "display_name": "Python 3 (ipykernel)",
   "language": "python",
   "name": "python3"
  },
  "language_info": {
   "codemirror_mode": {
    "name": "ipython",
    "version": 3
   },
   "file_extension": ".py",
   "mimetype": "text/x-python",
   "name": "python",
   "nbconvert_exporter": "python",
   "pygments_lexer": "ipython3",
   "version": "3.12.6"
  },
  "vscode": {
   "interpreter": {
    "hash": "31f2aee4e71d21fbe5cf8b01ff0e069b9275f58929596ceb00d14d90e3e16cd6"
   }
  }
 },
 "nbformat": 4,
 "nbformat_minor": 4
}
