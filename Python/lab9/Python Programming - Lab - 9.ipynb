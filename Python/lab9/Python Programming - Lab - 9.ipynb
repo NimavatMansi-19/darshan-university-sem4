{
 "cells": [
  {
   "cell_type": "code",
   "execution_count": null,
   "metadata": {},
   "outputs": [],
   "source": [
    "<a href='https://www.darshan.ac.in/'> <img src='https://www.darshan.ac.in/Content/media/DU_Logo.svg' width=\"250\" height=\"300\"/></a>\n",
    "<pre>\n",
    "<center><b><h1>Python Programming - 2301CS404</b></center>\n",
    "<center><b><h1>Lab - 9</b></center>    \n",
    "<pre>"
   ]
  },
  {
   "cell_type": "markdown",
   "metadata": {},
   "source": [
    "# File I/O"
   ]
  },
  {
   "cell_type": "markdown",
   "metadata": {},
   "source": [
    "### 01) WAP to read and display the contents of a text file. (also try to open the file in some other directory) \n",
    "#### - in the form of a string\n",
    "#### - line by line\n",
    "#### - in the form of a list"
   ]
  },
  {
   "cell_type": "code",
   "execution_count": 5,
   "metadata": {},
   "outputs": [
    {
     "name": "stdout",
     "output_type": "stream",
     "text": [
      "Hi..I am Mansi\n",
      "Its 4th Sem\n",
      "I love python\n",
      "\n"
     ]
    }
   ],
   "source": [
    "fp=open('Abc.txt')\n",
    "print(fp.read())"
   ]
  },
  {
   "cell_type": "code",
   "execution_count": 6,
   "metadata": {},
   "outputs": [
    {
     "name": "stdout",
     "output_type": "stream",
     "text": [
      "Hi..I am Mansi\n",
      "\n",
      "Its 4th Sem\n",
      "\n",
      "I love python\n",
      "\n"
     ]
    }
   ],
   "source": [
    "fp=open('Abc.txt')\n",
    "for i in fp.readlines():\n",
    "    print(i)"
   ]
  },
  {
   "cell_type": "code",
   "execution_count": 7,
   "metadata": {},
   "outputs": [
    {
     "name": "stdout",
     "output_type": "stream",
     "text": [
      "['Hi..I am Mansi\\n', 'Its 4th Sem\\n', 'I love python\\n']\n"
     ]
    }
   ],
   "source": [
    "fp=open('Abc.txt')\n",
    "print(fp.readlines())"
   ]
  },
  {
   "cell_type": "markdown",
   "metadata": {},
   "source": [
    "### 02) WAP to create file named \"new.txt\" only if it doesn't exist."
   ]
  },
  {
   "cell_type": "code",
   "execution_count": 11,
   "metadata": {},
   "outputs": [],
   "source": [
    "f=open('new.txt','w')\n",
    "f.write(\"Mansi\")\n",
    "f.close()"
   ]
  },
  {
   "cell_type": "markdown",
   "metadata": {},
   "source": [
    "### 03) WAP to read first 5 lines from the text file."
   ]
  },
  {
   "cell_type": "code",
   "execution_count": 12,
   "metadata": {},
   "outputs": [
    {
     "name": "stdout",
     "output_type": "stream",
     "text": [
      "Hi..I am Mansi\n",
      "\n",
      "Its 4th Sem\n",
      "\n",
      "I love python\n",
      "\n",
      "Hi..I am Mansi\n",
      "\n",
      "Its 4th Sem\n",
      "\n"
     ]
    }
   ],
   "source": [
    "f=open('Abc.txt','r')\n",
    "lines=f.readlines()\n",
    "for i in range(5):\n",
    "    print(lines[i])\n",
    "    "
   ]
  },
  {
   "cell_type": "markdown",
   "metadata": {},
   "source": [
    "### 04) WAP to find the longest word(s) in a file"
   ]
  },
  {
   "cell_type": "code",
   "execution_count": 28,
   "metadata": {},
   "outputs": [
    {
     "name": "stdout",
     "output_type": "stream",
     "text": [
      "NimavatMansi\n"
     ]
    }
   ],
   "source": [
    "f=open('new.txt','r')\n",
    "lines=f.read()\n",
    "word=lines.split()\n",
    "maxlength=0\n",
    "for i in word:\n",
    "    maxlength=len(i) if len(i)>maxlength else maxlength\n",
    "for i in word:\n",
    "    if len(i)==maxlength:\n",
    "        print(i)"
   ]
  },
  {
   "cell_type": "markdown",
   "metadata": {},
   "source": [
    "### 05) WAP to count the no. of lines, words and characters in a given text file."
   ]
  },
  {
   "cell_type": "code",
   "execution_count": 43,
   "metadata": {},
   "outputs": [
    {
     "name": "stdout",
     "output_type": "stream",
     "text": [
      "Number of lines: 2\n",
      "Number of words: 5\n",
      "Number of characters: 30\n"
     ]
    }
   ],
   "source": [
    "file=open('new.txt','r')\n",
    "lines = file.readlines()  # Read all lines\n",
    "num_lines = len(lines)\n",
    "num_words = sum(len(line.split()) for line in lines)  # Count words\n",
    "num_chars = sum(len(line) for line in lines)  # Count characters\n",
    "print(\"Number of lines:\", num_lines)\n",
    "print(\"Number of words:\", num_words)\n",
    "print(\"Number of characters:\", num_chars)"
   ]
  },
  {
   "cell_type": "markdown",
   "metadata": {},
   "source": [
    "### 06) WAP to copy the content of a file to the another file."
   ]
  },
  {
   "cell_type": "code",
   "execution_count": 45,
   "metadata": {},
   "outputs": [],
   "source": [
    "file=open('Abc.txt','r')\n",
    "lines=file.read()\n",
    "f=open('write.txt','w')\n",
    "f.write(lines)\n",
    "f.close()"
   ]
  },
  {
   "cell_type": "markdown",
   "metadata": {},
   "source": [
    "### 07) WAP to find the size of the text file. "
   ]
  },
  {
   "cell_type": "code",
   "execution_count": 52,
   "metadata": {},
   "outputs": [
    {
     "name": "stdout",
     "output_type": "stream",
     "text": [
      "Size of 'Abc.txt': 171 bytes\n"
     ]
    }
   ],
   "source": [
    "import os\n",
    "filename='Abc.txt'\n",
    "size = os.path.getsize(filename)  # Get file size in bytes\n",
    "print(f\"Size of '{filename}': {size} bytes\")"
   ]
  },
  {
   "cell_type": "markdown",
   "metadata": {},
   "source": [
    "### 08) WAP to create an UDF named frequency to count occurances of the specific word in a given text file."
   ]
  },
  {
   "cell_type": "code",
   "execution_count": 2,
   "metadata": {},
   "outputs": [
    {
     "name": "stdout",
     "output_type": "stream",
     "text": [
      "The word 'python' appears 4 times in 'Abc.txt'.\n"
     ]
    }
   ],
   "source": [
    "def frequency(filename, word):\n",
    "    file= open(filename, 'r')\n",
    "    text = file.read()\n",
    "    words = text.split()\n",
    "    count = words.count(word)\n",
    "    return count\n",
    "filename = \"Abc.txt\"  \n",
    "word_to_find = \"python\" \n",
    "result = frequency(filename, word_to_find)\n",
    "print(f\"The word '{word_to_find}' appears {result} times in '{filename}'.\")"
   ]
  },
  {
   "cell_type": "markdown",
   "metadata": {},
   "source": [
    "### 09) WAP to get the score of five subjects from the user, store them in a file. Fetch those marks and find the highest score."
   ]
  },
  {
   "cell_type": "code",
   "execution_count": null,
   "metadata": {},
   "outputs": [],
   "source": []
  },
  {
   "cell_type": "markdown",
   "metadata": {},
   "source": [
    "### 10) WAP to write first 100 prime numbers to a file named primenumbers.txt \n",
    "(Note: each number should be in new line)"
   ]
  },
  {
   "cell_type": "code",
   "execution_count": null,
   "metadata": {},
   "outputs": [],
   "source": []
  },
  {
   "cell_type": "markdown",
   "metadata": {},
   "source": [
    "### 11) WAP to merge two files and write it in a new file."
   ]
  },
  {
   "cell_type": "code",
   "execution_count": null,
   "metadata": {},
   "outputs": [],
   "source": []
  },
  {
   "cell_type": "markdown",
   "metadata": {},
   "source": [
    "### 12) WAP to replace word1 by word2 of a text file. Write the updated data to new file."
   ]
  },
  {
   "cell_type": "code",
   "execution_count": null,
   "metadata": {},
   "outputs": [],
   "source": []
  },
  {
   "cell_type": "markdown",
   "metadata": {},
   "source": [
    "### 13) Demonstrate tell() and seek() for all the cases(seek from beginning-end-current position) taking a suitable example of your choice."
   ]
  },
  {
   "cell_type": "code",
   "execution_count": null,
   "metadata": {},
   "outputs": [],
   "source": []
  }
 ],
 "metadata": {
  "kernelspec": {
   "display_name": "Python 3 (ipykernel)",
   "language": "python",
   "name": "python3"
  },
  "language_info": {
   "codemirror_mode": {
    "name": "ipython",
    "version": 3
   },
   "file_extension": ".py",
   "mimetype": "text/x-python",
   "name": "python",
   "nbconvert_exporter": "python",
   "pygments_lexer": "ipython3",
   "version": "3.12.6"
  }
 },
 "nbformat": 4,
 "nbformat_minor": 4
}
